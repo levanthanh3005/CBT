{
 "cells": [
  {
   "cell_type": "code",
   "execution_count": 16,
   "id": "ca06a3de",
   "metadata": {},
   "outputs": [],
   "source": [
    "import numpy as np"
   ]
  },
  {
   "cell_type": "code",
   "execution_count": 4,
   "id": "738b1dea",
   "metadata": {},
   "outputs": [],
   "source": [
    "from sklearn.datasets import make_classification\n",
    "X, y = make_classification(n_classes=2, class_sep=0.5,\n",
    "weights=[0.05, 0.95], n_informative=2, n_redundant=0, flip_y=0,\n",
    "n_features=2, n_clusters_per_class=1, n_samples=1000, random_state=10)"
   ]
  },
  {
   "cell_type": "code",
   "execution_count": 8,
   "id": "7726e37d",
   "metadata": {},
   "outputs": [
    {
     "data": {
      "text/plain": [
       "array([[-0.26943684, -0.79156516],\n",
       "       [-0.8365411 , -0.31013335],\n",
       "       [-0.48761304, -0.64150224],\n",
       "       ...,\n",
       "       [-2.36469491,  0.92237279],\n",
       "       [-0.74061427, -0.19914068],\n",
       "       [-1.95164137,  0.50807884]])"
      ]
     },
     "execution_count": 8,
     "metadata": {},
     "output_type": "execute_result"
    }
   ],
   "source": [
    "X"
   ]
  },
  {
   "cell_type": "code",
   "execution_count": 9,
   "id": "b4ed9f6a",
   "metadata": {},
   "outputs": [
    {
     "data": {
      "text/plain": [
       "array([1, 1, 1, 1, 1, 1, 1, 1, 0, 1, 0, 1, 1, 1, 1, 1, 1, 1, 1, 1, 1, 1,\n",
       "       1, 1, 1, 1, 1, 1, 1, 1, 1, 1, 1, 1, 1, 1, 1, 1, 1, 1, 1, 0, 1, 1,\n",
       "       1, 1, 1, 1, 1, 1, 1, 0, 1, 1, 1, 1, 1, 1, 1, 1, 1, 1, 1, 1, 1, 1,\n",
       "       1, 1, 1, 1, 1, 1, 1, 1, 1, 1, 1, 1, 1, 1, 1, 1, 1, 0, 1, 1, 1, 1,\n",
       "       1, 1, 1, 1, 1, 1, 1, 0, 1, 1, 1, 1, 1, 1, 1, 1, 1, 1, 1, 1, 1, 0,\n",
       "       1, 1, 0, 1, 1, 1, 1, 1, 0, 1, 1, 1, 1, 1, 1, 1, 1, 1, 1, 1, 0, 1,\n",
       "       1, 0, 1, 1, 1, 1, 1, 1, 1, 1, 1, 1, 1, 1, 1, 1, 1, 1, 1, 1, 1, 1,\n",
       "       1, 1, 1, 1, 1, 1, 1, 1, 1, 1, 0, 0, 1, 1, 1, 1, 1, 1, 1, 1, 1, 1,\n",
       "       1, 1, 1, 1, 1, 1, 1, 1, 1, 1, 1, 1, 1, 1, 1, 1, 1, 1, 1, 1, 1, 1,\n",
       "       1, 1, 1, 1, 0, 1, 1, 1, 1, 1, 1, 1, 0, 0, 1, 1, 1, 1, 1, 1, 1, 1,\n",
       "       1, 1, 1, 1, 1, 1, 1, 1, 1, 1, 1, 1, 1, 1, 1, 1, 1, 1, 1, 1, 1, 1,\n",
       "       1, 1, 1, 1, 1, 1, 1, 1, 1, 1, 1, 1, 1, 1, 1, 1, 1, 1, 1, 1, 1, 1,\n",
       "       1, 1, 1, 0, 1, 1, 1, 1, 1, 1, 1, 1, 0, 0, 1, 0, 1, 1, 1, 1, 1, 1,\n",
       "       1, 1, 1, 1, 1, 1, 1, 1, 1, 1, 1, 1, 1, 1, 1, 1, 1, 1, 1, 1, 1, 1,\n",
       "       1, 1, 1, 1, 1, 1, 1, 1, 1, 0, 1, 1, 1, 0, 1, 1, 1, 1, 1, 1, 1, 0,\n",
       "       0, 1, 0, 1, 1, 0, 1, 1, 1, 1, 1, 1, 1, 1, 1, 1, 1, 1, 1, 1, 1, 1,\n",
       "       1, 1, 1, 1, 1, 1, 1, 1, 1, 1, 1, 1, 1, 1, 1, 1, 1, 1, 1, 1, 1, 1,\n",
       "       1, 1, 1, 1, 1, 1, 1, 1, 1, 1, 1, 1, 1, 1, 1, 1, 1, 1, 0, 1, 1, 1,\n",
       "       1, 1, 1, 1, 1, 1, 1, 1, 1, 1, 1, 1, 1, 1, 1, 1, 1, 1, 1, 1, 1, 1,\n",
       "       1, 1, 1, 1, 1, 1, 1, 1, 1, 1, 1, 1, 1, 1, 1, 1, 1, 1, 1, 1, 1, 1,\n",
       "       1, 1, 1, 1, 1, 1, 1, 1, 1, 1, 1, 1, 1, 1, 1, 1, 1, 1, 1, 1, 1, 0,\n",
       "       1, 1, 1, 1, 1, 1, 1, 1, 1, 1, 1, 1, 1, 1, 1, 1, 1, 1, 1, 1, 1, 1,\n",
       "       1, 1, 1, 1, 1, 1, 1, 1, 1, 1, 1, 1, 1, 1, 1, 1, 1, 1, 1, 1, 1, 1,\n",
       "       1, 1, 0, 1, 1, 1, 1, 1, 1, 1, 1, 1, 1, 1, 1, 1, 1, 1, 1, 1, 1, 1,\n",
       "       1, 1, 1, 1, 1, 1, 1, 1, 1, 1, 1, 1, 1, 1, 1, 1, 1, 1, 1, 1, 1, 1,\n",
       "       1, 1, 1, 1, 1, 1, 1, 0, 1, 1, 1, 1, 1, 1, 1, 1, 1, 1, 1, 1, 1, 1,\n",
       "       1, 1, 1, 1, 1, 1, 1, 1, 1, 1, 1, 1, 1, 0, 1, 1, 1, 1, 1, 1, 0, 1,\n",
       "       1, 1, 1, 1, 1, 1, 1, 1, 1, 1, 1, 1, 1, 1, 1, 1, 1, 1, 0, 1, 1, 0,\n",
       "       1, 1, 1, 1, 1, 1, 1, 1, 1, 1, 1, 1, 1, 1, 1, 1, 1, 1, 1, 1, 1, 1,\n",
       "       0, 1, 1, 1, 1, 1, 1, 1, 1, 1, 1, 1, 1, 1, 1, 1, 0, 1, 0, 1, 1, 1,\n",
       "       1, 1, 1, 1, 1, 1, 1, 1, 1, 1, 1, 1, 1, 0, 1, 1, 1, 1, 1, 1, 1, 1,\n",
       "       1, 1, 1, 1, 1, 1, 1, 1, 1, 1, 1, 1, 1, 1, 1, 1, 1, 1, 1, 1, 1, 1,\n",
       "       1, 1, 1, 1, 1, 1, 1, 1, 1, 1, 1, 1, 1, 1, 1, 1, 1, 1, 1, 1, 1, 1,\n",
       "       1, 1, 1, 1, 1, 1, 1, 1, 1, 1, 1, 1, 1, 1, 1, 1, 1, 1, 1, 1, 1, 1,\n",
       "       1, 1, 1, 0, 1, 1, 1, 1, 1, 0, 1, 1, 1, 1, 1, 1, 1, 1, 1, 1, 1, 1,\n",
       "       0, 1, 0, 1, 1, 1, 1, 1, 1, 1, 1, 1, 1, 1, 1, 1, 1, 1, 1, 1, 1, 1,\n",
       "       1, 1, 1, 1, 1, 1, 1, 1, 1, 1, 1, 0, 1, 1, 1, 1, 1, 1, 1, 1, 1, 1,\n",
       "       1, 1, 1, 1, 1, 1, 1, 1, 1, 1, 1, 1, 1, 1, 1, 1, 1, 1, 1, 1, 1, 0,\n",
       "       1, 1, 1, 1, 1, 1, 1, 1, 1, 1, 1, 1, 1, 1, 1, 1, 1, 1, 1, 1, 1, 1,\n",
       "       1, 1, 1, 1, 1, 1, 1, 1, 1, 1, 1, 1, 1, 1, 1, 1, 1, 1, 1, 1, 1, 1,\n",
       "       1, 1, 1, 1, 1, 1, 1, 1, 1, 1, 1, 1, 1, 1, 1, 1, 1, 1, 1, 1, 1, 1,\n",
       "       1, 1, 1, 1, 1, 1, 1, 1, 1, 1, 1, 1, 1, 1, 1, 1, 1, 1, 1, 1, 1, 1,\n",
       "       1, 1, 1, 1, 1, 1, 0, 1, 1, 1, 1, 1, 1, 1, 0, 1, 1, 1, 1, 0, 1, 1,\n",
       "       1, 1, 1, 1, 1, 1, 1, 1, 1, 1, 1, 1, 1, 1, 1, 1, 1, 1, 1, 0, 1, 1,\n",
       "       1, 1, 1, 1, 1, 1, 1, 1, 0, 1, 1, 1, 1, 1, 1, 1, 1, 1, 1, 1, 1, 1,\n",
       "       0, 1, 1, 1, 1, 1, 1, 1, 1, 1])"
      ]
     },
     "execution_count": 9,
     "metadata": {},
     "output_type": "execute_result"
    }
   ],
   "source": [
    "y"
   ]
  },
  {
   "cell_type": "code",
   "execution_count": 6,
   "id": "d06e4de9",
   "metadata": {},
   "outputs": [
    {
     "data": {
      "text/plain": [
       "(1000, 2)"
      ]
     },
     "execution_count": 6,
     "metadata": {},
     "output_type": "execute_result"
    }
   ],
   "source": [
    "X.shape"
   ]
  },
  {
   "cell_type": "code",
   "execution_count": 30,
   "id": "99aa9c52",
   "metadata": {},
   "outputs": [
    {
     "name": "stdout",
     "output_type": "stream",
     "text": [
      "Empty DataFrame\n",
      "Columns: []\n",
      "Index: []\n"
     ]
    }
   ],
   "source": [
    "print(pd.DataFrame([]))"
   ]
  },
  {
   "cell_type": "code",
   "execution_count": 7,
   "id": "dfbfcee4",
   "metadata": {},
   "outputs": [
    {
     "data": {
      "text/plain": [
       "(1000,)"
      ]
     },
     "execution_count": 7,
     "metadata": {},
     "output_type": "execute_result"
    }
   ],
   "source": [
    "y.shape"
   ]
  },
  {
   "cell_type": "code",
   "execution_count": 17,
   "id": "8e613fb0",
   "metadata": {},
   "outputs": [
    {
     "data": {
      "text/plain": [
       "array([ 50, 950])"
      ]
     },
     "execution_count": 17,
     "metadata": {},
     "output_type": "execute_result"
    }
   ],
   "source": [
    "np.bincount(y)"
   ]
  },
  {
   "cell_type": "code",
   "execution_count": 31,
   "id": "0a8208da",
   "metadata": {},
   "outputs": [],
   "source": [
    "from imblearn.over_sampling import SMOTE\n",
    "sm = SMOTE(random_state=42)\n",
    "X_res, y_res = sm.fit_resample(pd.DataFrame(X), pd.DataFrame(y))"
   ]
  },
  {
   "cell_type": "code",
   "execution_count": 34,
   "id": "702df0fa",
   "metadata": {},
   "outputs": [
    {
     "data": {
      "text/plain": [
       "1    950\n",
       "0    950\n",
       "dtype: int64"
      ]
     },
     "execution_count": 34,
     "metadata": {},
     "output_type": "execute_result"
    }
   ],
   "source": [
    "y_res.value_counts()"
   ]
  },
  {
   "cell_type": "code",
   "execution_count": 22,
   "id": "faa897e6",
   "metadata": {},
   "outputs": [],
   "source": [
    "import requests\n",
    "import json\n",
    "import time\n",
    "from datetime import datetime\n",
    "import pandas as pd"
   ]
  },
  {
   "cell_type": "code",
   "execution_count": 23,
   "id": "435582f9",
   "metadata": {},
   "outputs": [],
   "source": [
    "import numpy as np\n",
    "from numpy import savetxt\n",
    "from numpy import asarray\n",
    "from matplotlib import pyplot as plt\n",
    "from os import listdir\n",
    "from os.path import isfile, join"
   ]
  },
  {
   "cell_type": "code",
   "execution_count": 25,
   "id": "b143bed5",
   "metadata": {},
   "outputs": [],
   "source": [
    "def viewAllDataFromFolder(dataPath,prefix):\n",
    "    onlyfiles = [f for f in listdir(dataPath) if isfile(join(dataPath, f))]\n",
    "    count = 0\n",
    "    fileLs = []\n",
    "    lsBdTrain = None\n",
    "    dataList = []\n",
    "    for fs in onlyfiles:\n",
    "        if fs[:2]==prefix:\n",
    "            print(fs)\n",
    "            count = count + 1\n",
    "            dataItem = pd.read_pickle(dataPath+\"/\"+fs)\n",
    "            dataList.append(dataItem)\n",
    "    frame = pd.concat(dataList)\n",
    "    return frame"
   ]
  },
  {
   "cell_type": "code",
   "execution_count": 26,
   "id": "cb89ba61",
   "metadata": {
    "scrolled": false
   },
   "outputs": [
    {
     "name": "stdout",
     "output_type": "stream",
     "text": [
      "8-1629576360-tan-k2-1.pkl\n",
      "8-1629487770-tan-k3-0.pkl\n",
      "8-1629797400-tan-k3-0.pkl\n",
      "8-1629944340-tan-k3-0.pkl\n",
      "8-1629810600-tan-km-1.pkl\n",
      "8-1629660180-tan-km-1.pkl\n",
      "8-1629634500-tan-k3-0.pkl\n",
      "8-1629660180-tan-k2-1.pkl\n",
      "8-1629793080-tan-k2-1.pkl\n",
      "8-1629876780-tan-km-1.pkl\n",
      "8-1629397800-tan-k2-1.pkl\n",
      "8-1629397800-tan-km-1.pkl\n",
      "8-1629876780-tan-k2-1.pkl\n",
      "8-1629797400-tan-k2-1.pkl\n",
      "8-1629713460-tan-km-1.pkl\n",
      "8-1629793080-tan-km-1.pkl\n",
      "8-1629978780-tan-k3-0.pkl\n",
      "8-1629944340-tan-k2-1.pkl\n",
      "8-1629367800-tan-km-1.pkl\n",
      "8-1629367800-tan-k2-1.pkl\n",
      "8-1629576360-tan-k3-0.pkl\n",
      "8-1629612720-tan-km-1.pkl\n",
      "8-1629944340-tan-km-1.pkl\n",
      "8-1629314880-tan-km-1.pkl\n",
      "8-1629634500-tan-k2-1.pkl\n",
      "8-1629487770-tan-k2-1.pkl\n",
      "8-1629797400-tan-km-1.pkl\n",
      "8-1629487770-tan-km-1.pkl\n",
      "8-1629489780-tan-km-1.pkl\n",
      "8-1629576360-tan-km-1.pkl\n",
      "8-1629397800-tan-k3-1.pkl\n",
      "8-1629461730-tan-k2-1.pkl\n",
      "8-1629978780-tan-k2-1.pkl\n",
      "8-1629461730-tan-k3-0.pkl\n",
      "8-1629489780-tan-k2-1.pkl\n",
      "8-1629660180-tan-k3-0.pkl\n",
      "8-1629612720-tan-k3-0.pkl\n",
      "8-1629314880-tan-k2-1.pkl\n",
      "8-1629793080-tan-k3-0.pkl\n",
      "8-1629713460-tan-k3-0.pkl\n",
      "8-1629978780-tan-km-1.pkl\n",
      "8-1629876780-tan-k3-0.pkl\n",
      "8-1629612720-tan-k2-1.pkl\n",
      "8-1629810600-tan-k3-0.pkl\n",
      "8-1629634500-tan-km-1.pkl\n",
      "8-1629713460-tan-k2-1.pkl\n",
      "8-1629314880-tan-k3-1.pkl\n",
      "8-1629810600-tan-k2-1.pkl\n",
      "8-1629367800-tan-k3-1.pkl\n",
      "8-1629489780-tan-k3-0.pkl\n"
     ]
    }
   ],
   "source": [
    "dataset = viewAllDataFromFolder(\"CBT/data\",\"8-\")"
   ]
  },
  {
   "cell_type": "code",
   "execution_count": 27,
   "id": "eeae2cd3",
   "metadata": {},
   "outputs": [
    {
     "data": {
      "text/html": [
       "<div>\n",
       "<style scoped>\n",
       "    .dataframe tbody tr th:only-of-type {\n",
       "        vertical-align: middle;\n",
       "    }\n",
       "\n",
       "    .dataframe tbody tr th {\n",
       "        vertical-align: top;\n",
       "    }\n",
       "\n",
       "    .dataframe thead th {\n",
       "        text-align: right;\n",
       "    }\n",
       "</style>\n",
       "<table border=\"1\" class=\"dataframe\">\n",
       "  <thead>\n",
       "    <tr style=\"text-align: right;\">\n",
       "      <th></th>\n",
       "      <th>timestamp</th>\n",
       "      <th>cpu_system</th>\n",
       "      <th>cpu_idle</th>\n",
       "      <th>cpu_user</th>\n",
       "      <th>cpu_iowait</th>\n",
       "      <th>pod_count</th>\n",
       "      <th>system_load</th>\n",
       "      <th>mem_total</th>\n",
       "      <th>mem_avail</th>\n",
       "      <th>disk_io</th>\n",
       "      <th>disk_space_used</th>\n",
       "      <th>net_received</th>\n",
       "      <th>net_transmit</th>\n",
       "      <th>node</th>\n",
       "      <th>label</th>\n",
       "    </tr>\n",
       "  </thead>\n",
       "  <tbody>\n",
       "    <tr>\n",
       "      <th>0</th>\n",
       "      <td>1.629576e+09</td>\n",
       "      <td>0.024000</td>\n",
       "      <td>0.906000</td>\n",
       "      <td>0.052667</td>\n",
       "      <td>0.000333</td>\n",
       "      <td>6.0</td>\n",
       "      <td>0.12</td>\n",
       "      <td>1.911521e+09</td>\n",
       "      <td>2.174521e+09</td>\n",
       "      <td>0.005067</td>\n",
       "      <td>0.534038</td>\n",
       "      <td>951905.066667</td>\n",
       "      <td>899240.000000</td>\n",
       "      <td>tan-k2</td>\n",
       "      <td>1</td>\n",
       "    </tr>\n",
       "    <tr>\n",
       "      <th>1</th>\n",
       "      <td>1.629576e+09</td>\n",
       "      <td>0.024000</td>\n",
       "      <td>0.906000</td>\n",
       "      <td>0.052667</td>\n",
       "      <td>0.000333</td>\n",
       "      <td>6.0</td>\n",
       "      <td>0.12</td>\n",
       "      <td>1.911521e+09</td>\n",
       "      <td>2.174521e+09</td>\n",
       "      <td>0.005067</td>\n",
       "      <td>0.534038</td>\n",
       "      <td>951905.066667</td>\n",
       "      <td>899240.000000</td>\n",
       "      <td>tan-k2</td>\n",
       "      <td>1</td>\n",
       "    </tr>\n",
       "    <tr>\n",
       "      <th>2</th>\n",
       "      <td>1.629576e+09</td>\n",
       "      <td>0.034333</td>\n",
       "      <td>0.895667</td>\n",
       "      <td>0.045667</td>\n",
       "      <td>0.003000</td>\n",
       "      <td>6.0</td>\n",
       "      <td>0.10</td>\n",
       "      <td>1.911755e+09</td>\n",
       "      <td>2.174288e+09</td>\n",
       "      <td>0.010400</td>\n",
       "      <td>0.534295</td>\n",
       "      <td>771843.200000</td>\n",
       "      <td>541984.000000</td>\n",
       "      <td>tan-k2</td>\n",
       "      <td>1</td>\n",
       "    </tr>\n",
       "    <tr>\n",
       "      <th>3</th>\n",
       "      <td>1.629576e+09</td>\n",
       "      <td>0.034333</td>\n",
       "      <td>0.895667</td>\n",
       "      <td>0.045667</td>\n",
       "      <td>0.003000</td>\n",
       "      <td>6.0</td>\n",
       "      <td>0.10</td>\n",
       "      <td>1.911755e+09</td>\n",
       "      <td>2.174288e+09</td>\n",
       "      <td>0.010400</td>\n",
       "      <td>0.534295</td>\n",
       "      <td>771843.200000</td>\n",
       "      <td>541984.000000</td>\n",
       "      <td>tan-k2</td>\n",
       "      <td>1</td>\n",
       "    </tr>\n",
       "    <tr>\n",
       "      <th>4</th>\n",
       "      <td>1.629576e+09</td>\n",
       "      <td>0.025000</td>\n",
       "      <td>0.908000</td>\n",
       "      <td>0.045000</td>\n",
       "      <td>0.000000</td>\n",
       "      <td>6.0</td>\n",
       "      <td>0.07</td>\n",
       "      <td>1.911210e+09</td>\n",
       "      <td>2.174833e+09</td>\n",
       "      <td>0.000800</td>\n",
       "      <td>0.534296</td>\n",
       "      <td>849244.266667</td>\n",
       "      <td>771101.333333</td>\n",
       "      <td>tan-k2</td>\n",
       "      <td>1</td>\n",
       "    </tr>\n",
       "  </tbody>\n",
       "</table>\n",
       "</div>"
      ],
      "text/plain": [
       "      timestamp  cpu_system  cpu_idle  cpu_user  cpu_iowait  pod_count  \\\n",
       "0  1.629576e+09    0.024000  0.906000  0.052667    0.000333        6.0   \n",
       "1  1.629576e+09    0.024000  0.906000  0.052667    0.000333        6.0   \n",
       "2  1.629576e+09    0.034333  0.895667  0.045667    0.003000        6.0   \n",
       "3  1.629576e+09    0.034333  0.895667  0.045667    0.003000        6.0   \n",
       "4  1.629576e+09    0.025000  0.908000  0.045000    0.000000        6.0   \n",
       "\n",
       "   system_load     mem_total     mem_avail   disk_io  disk_space_used  \\\n",
       "0         0.12  1.911521e+09  2.174521e+09  0.005067         0.534038   \n",
       "1         0.12  1.911521e+09  2.174521e+09  0.005067         0.534038   \n",
       "2         0.10  1.911755e+09  2.174288e+09  0.010400         0.534295   \n",
       "3         0.10  1.911755e+09  2.174288e+09  0.010400         0.534295   \n",
       "4         0.07  1.911210e+09  2.174833e+09  0.000800         0.534296   \n",
       "\n",
       "    net_received   net_transmit    node  label  \n",
       "0  951905.066667  899240.000000  tan-k2      1  \n",
       "1  951905.066667  899240.000000  tan-k2      1  \n",
       "2  771843.200000  541984.000000  tan-k2      1  \n",
       "3  771843.200000  541984.000000  tan-k2      1  \n",
       "4  849244.266667  771101.333333  tan-k2      1  "
      ]
     },
     "execution_count": 27,
     "metadata": {},
     "output_type": "execute_result"
    }
   ],
   "source": [
    "dataset = dataset.reset_index().fillna(0)\n",
    "dataset.head()"
   ]
  },
  {
   "cell_type": "code",
   "execution_count": 57,
   "id": "e6da819d",
   "metadata": {},
   "outputs": [
    {
     "data": {
      "text/plain": [
       "(170130, 24)"
      ]
     },
     "execution_count": 57,
     "metadata": {},
     "output_type": "execute_result"
    }
   ],
   "source": [
    "dataset.shape"
   ]
  },
  {
   "cell_type": "code",
   "execution_count": 28,
   "id": "b270f2b9",
   "metadata": {},
   "outputs": [
    {
     "name": "stdout",
     "output_type": "stream",
     "text": [
      "Data Shape (170130, 15)\n",
      "Label counts:\n",
      "1    124212\n",
      "0     45918\n",
      "Name: label, dtype: int64\n",
      "8 data item per 1 minute\n",
      "354.4375  hours\n",
      "14.768229166666666  days\n",
      "Num of data item with 10 min: 2126.625\n"
     ]
    }
   ],
   "source": [
    "print(\"Data Shape\",dataset.shape)\n",
    "print(\"Label counts:\")\n",
    "print(dataset[\"label\"].value_counts())\n",
    "print(\"8 data item per 1 minute\")\n",
    "print((dataset.shape[0] / 8)/60,\" hours\")\n",
    "print(((dataset.shape[0] / 8)/60)/24,\" days\")\n",
    "print(\"Num of data item with 10 min:\",(dataset.shape[0] / 8)/10)"
   ]
  },
  {
   "cell_type": "code",
   "execution_count": 42,
   "id": "9e3321b4",
   "metadata": {},
   "outputs": [],
   "source": [
    "dataset[\"timemm\"] = dataset['timestamp']\n",
    "dataset['timemm'] = dataset['timemm'].apply(lambda x: datetime.fromtimestamp(x))\n",
    "dataset[\"year\"] = dataset['timemm'].apply(lambda x:x.year)\n",
    "dataset[\"month\"] = dataset['timemm'].apply(lambda x:x.month)\n",
    "dataset[\"day\"] = dataset['timemm'].apply(lambda x:x.day)\n",
    "dataset[\"hour\"] = dataset['timemm'].apply(lambda x:x.hour)\n",
    "dataset[\"minute\"] = dataset['timemm'].apply(lambda x:x.minute)\n",
    "dataset[\"second\"] = dataset['timemm'].apply(lambda x:x.second)\n",
    "del dataset['timemm']\n",
    "\n",
    "dataset[\"node\"] = dataset[\"node\"].apply(lambda x : 2 if x==\"tan-k2\" else 3 if x==\"tan-k3\" else 1 if x==\"tan-km\" else x)\n",
    "dataset[\"cpu_total\"] = 1 - dataset[\"cpu_idle\"]\n",
    "\n",
    "dataset[\"cpu_user_rate\"] = dataset[\"cpu_user\"] / dataset[\"cpu_total\"]\n",
    "dataset[\"cpu_system_rate\"] = dataset[\"cpu_system\"] / dataset[\"cpu_total\"]"
   ]
  },
  {
   "cell_type": "code",
   "execution_count": 49,
   "id": "236143b5",
   "metadata": {},
   "outputs": [],
   "source": [
    "def resampleData(dataset,label):\n",
    "    dataX = dataset.drop(label, axis=1)\n",
    "    dataY = dataset[label]\n",
    "    sm = SMOTE(random_state=42)\n",
    "    X_res, y_res = sm.fit_resample(dataX, dataY)\n",
    "    result = pd.concat([X_res, y_res], axis=1)\n",
    "    return result"
   ]
  },
  {
   "cell_type": "code",
   "execution_count": 50,
   "id": "2647f291",
   "metadata": {},
   "outputs": [],
   "source": [
    "reDataset = resampleData(dataset,\"label\")\n",
    "#echo 1 > /proc/sys/vm/overcommit_memory : Fix the problem of memory errors"
   ]
  },
  {
   "cell_type": "code",
   "execution_count": 55,
   "id": "906cd509",
   "metadata": {},
   "outputs": [
    {
     "data": {
      "text/plain": [
       "1    124212\n",
       "0    124212\n",
       "Name: label, dtype: int64"
      ]
     },
     "execution_count": 55,
     "metadata": {},
     "output_type": "execute_result"
    }
   ],
   "source": [
    "reDataset[\"label\"].value_counts()"
   ]
  },
  {
   "cell_type": "code",
   "execution_count": 53,
   "id": "24781396",
   "metadata": {},
   "outputs": [
    {
     "name": "stdout",
     "output_type": "stream",
     "text": [
      "/bin/sh: 1: sudo: not found\r\n"
     ]
    }
   ],
   "source": [
    "!sudo apt-get install foremost\n"
   ]
  },
  {
   "cell_type": "code",
   "execution_count": 54,
   "id": "860b6a64",
   "metadata": {},
   "outputs": [
    {
     "data": {
      "text/html": [
       "<div>\n",
       "<style scoped>\n",
       "    .dataframe tbody tr th:only-of-type {\n",
       "        vertical-align: middle;\n",
       "    }\n",
       "\n",
       "    .dataframe tbody tr th {\n",
       "        vertical-align: top;\n",
       "    }\n",
       "\n",
       "    .dataframe thead th {\n",
       "        text-align: right;\n",
       "    }\n",
       "</style>\n",
       "<table border=\"1\" class=\"dataframe\">\n",
       "  <thead>\n",
       "    <tr style=\"text-align: right;\">\n",
       "      <th></th>\n",
       "      <th>timestamp</th>\n",
       "      <th>cpu_system</th>\n",
       "      <th>cpu_idle</th>\n",
       "      <th>cpu_user</th>\n",
       "      <th>cpu_iowait</th>\n",
       "      <th>pod_count</th>\n",
       "      <th>system_load</th>\n",
       "      <th>mem_total</th>\n",
       "      <th>mem_avail</th>\n",
       "      <th>disk_io</th>\n",
       "      <th>...</th>\n",
       "      <th>label</th>\n",
       "      <th>year</th>\n",
       "      <th>month</th>\n",
       "      <th>day</th>\n",
       "      <th>hour</th>\n",
       "      <th>minute</th>\n",
       "      <th>second</th>\n",
       "      <th>cpu_total</th>\n",
       "      <th>cpu_user_rate</th>\n",
       "      <th>cpu_system_rate</th>\n",
       "    </tr>\n",
       "  </thead>\n",
       "  <tbody>\n",
       "    <tr>\n",
       "      <th>0</th>\n",
       "      <td>1.629576e+09</td>\n",
       "      <td>0.024000</td>\n",
       "      <td>0.906000</td>\n",
       "      <td>0.052667</td>\n",
       "      <td>0.000333</td>\n",
       "      <td>6.0</td>\n",
       "      <td>0.12</td>\n",
       "      <td>1.911521e+09</td>\n",
       "      <td>2.174521e+09</td>\n",
       "      <td>0.005067</td>\n",
       "      <td>...</td>\n",
       "      <td>1</td>\n",
       "      <td>2021</td>\n",
       "      <td>8</td>\n",
       "      <td>21</td>\n",
       "      <td>20</td>\n",
       "      <td>6</td>\n",
       "      <td>0</td>\n",
       "      <td>0.094000</td>\n",
       "      <td>0.560284</td>\n",
       "      <td>0.255319</td>\n",
       "    </tr>\n",
       "    <tr>\n",
       "      <th>1</th>\n",
       "      <td>1.629576e+09</td>\n",
       "      <td>0.024000</td>\n",
       "      <td>0.906000</td>\n",
       "      <td>0.052667</td>\n",
       "      <td>0.000333</td>\n",
       "      <td>6.0</td>\n",
       "      <td>0.12</td>\n",
       "      <td>1.911521e+09</td>\n",
       "      <td>2.174521e+09</td>\n",
       "      <td>0.005067</td>\n",
       "      <td>...</td>\n",
       "      <td>1</td>\n",
       "      <td>2021</td>\n",
       "      <td>8</td>\n",
       "      <td>21</td>\n",
       "      <td>20</td>\n",
       "      <td>6</td>\n",
       "      <td>8</td>\n",
       "      <td>0.094000</td>\n",
       "      <td>0.560284</td>\n",
       "      <td>0.255319</td>\n",
       "    </tr>\n",
       "    <tr>\n",
       "      <th>2</th>\n",
       "      <td>1.629576e+09</td>\n",
       "      <td>0.034333</td>\n",
       "      <td>0.895667</td>\n",
       "      <td>0.045667</td>\n",
       "      <td>0.003000</td>\n",
       "      <td>6.0</td>\n",
       "      <td>0.10</td>\n",
       "      <td>1.911755e+09</td>\n",
       "      <td>2.174288e+09</td>\n",
       "      <td>0.010400</td>\n",
       "      <td>...</td>\n",
       "      <td>1</td>\n",
       "      <td>2021</td>\n",
       "      <td>8</td>\n",
       "      <td>21</td>\n",
       "      <td>20</td>\n",
       "      <td>6</td>\n",
       "      <td>16</td>\n",
       "      <td>0.104333</td>\n",
       "      <td>0.437700</td>\n",
       "      <td>0.329073</td>\n",
       "    </tr>\n",
       "    <tr>\n",
       "      <th>3</th>\n",
       "      <td>1.629576e+09</td>\n",
       "      <td>0.034333</td>\n",
       "      <td>0.895667</td>\n",
       "      <td>0.045667</td>\n",
       "      <td>0.003000</td>\n",
       "      <td>6.0</td>\n",
       "      <td>0.10</td>\n",
       "      <td>1.911755e+09</td>\n",
       "      <td>2.174288e+09</td>\n",
       "      <td>0.010400</td>\n",
       "      <td>...</td>\n",
       "      <td>1</td>\n",
       "      <td>2021</td>\n",
       "      <td>8</td>\n",
       "      <td>21</td>\n",
       "      <td>20</td>\n",
       "      <td>6</td>\n",
       "      <td>24</td>\n",
       "      <td>0.104333</td>\n",
       "      <td>0.437700</td>\n",
       "      <td>0.329073</td>\n",
       "    </tr>\n",
       "    <tr>\n",
       "      <th>4</th>\n",
       "      <td>1.629576e+09</td>\n",
       "      <td>0.025000</td>\n",
       "      <td>0.908000</td>\n",
       "      <td>0.045000</td>\n",
       "      <td>0.000000</td>\n",
       "      <td>6.0</td>\n",
       "      <td>0.07</td>\n",
       "      <td>1.911210e+09</td>\n",
       "      <td>2.174833e+09</td>\n",
       "      <td>0.000800</td>\n",
       "      <td>...</td>\n",
       "      <td>1</td>\n",
       "      <td>2021</td>\n",
       "      <td>8</td>\n",
       "      <td>21</td>\n",
       "      <td>20</td>\n",
       "      <td>6</td>\n",
       "      <td>32</td>\n",
       "      <td>0.092000</td>\n",
       "      <td>0.489130</td>\n",
       "      <td>0.271739</td>\n",
       "    </tr>\n",
       "    <tr>\n",
       "      <th>...</th>\n",
       "      <td>...</td>\n",
       "      <td>...</td>\n",
       "      <td>...</td>\n",
       "      <td>...</td>\n",
       "      <td>...</td>\n",
       "      <td>...</td>\n",
       "      <td>...</td>\n",
       "      <td>...</td>\n",
       "      <td>...</td>\n",
       "      <td>...</td>\n",
       "      <td>...</td>\n",
       "      <td>...</td>\n",
       "      <td>...</td>\n",
       "      <td>...</td>\n",
       "      <td>...</td>\n",
       "      <td>...</td>\n",
       "      <td>...</td>\n",
       "      <td>...</td>\n",
       "      <td>...</td>\n",
       "      <td>...</td>\n",
       "      <td>...</td>\n",
       "    </tr>\n",
       "    <tr>\n",
       "      <th>170125</th>\n",
       "      <td>1.629576e+09</td>\n",
       "      <td>0.000000</td>\n",
       "      <td>0.000000</td>\n",
       "      <td>0.000000</td>\n",
       "      <td>0.000000</td>\n",
       "      <td>2.0</td>\n",
       "      <td>0.00</td>\n",
       "      <td>0.000000e+00</td>\n",
       "      <td>0.000000e+00</td>\n",
       "      <td>0.000000</td>\n",
       "      <td>...</td>\n",
       "      <td>0</td>\n",
       "      <td>2021</td>\n",
       "      <td>8</td>\n",
       "      <td>21</td>\n",
       "      <td>19</td>\n",
       "      <td>59</td>\n",
       "      <td>24</td>\n",
       "      <td>1.000000</td>\n",
       "      <td>0.000000</td>\n",
       "      <td>0.000000</td>\n",
       "    </tr>\n",
       "    <tr>\n",
       "      <th>170126</th>\n",
       "      <td>1.629576e+09</td>\n",
       "      <td>0.000000</td>\n",
       "      <td>0.000000</td>\n",
       "      <td>0.000000</td>\n",
       "      <td>0.000000</td>\n",
       "      <td>2.0</td>\n",
       "      <td>0.00</td>\n",
       "      <td>0.000000e+00</td>\n",
       "      <td>0.000000e+00</td>\n",
       "      <td>0.000000</td>\n",
       "      <td>...</td>\n",
       "      <td>0</td>\n",
       "      <td>2021</td>\n",
       "      <td>8</td>\n",
       "      <td>21</td>\n",
       "      <td>19</td>\n",
       "      <td>59</td>\n",
       "      <td>32</td>\n",
       "      <td>1.000000</td>\n",
       "      <td>0.000000</td>\n",
       "      <td>0.000000</td>\n",
       "    </tr>\n",
       "    <tr>\n",
       "      <th>170127</th>\n",
       "      <td>1.629576e+09</td>\n",
       "      <td>0.000000</td>\n",
       "      <td>0.000000</td>\n",
       "      <td>0.000000</td>\n",
       "      <td>0.000000</td>\n",
       "      <td>2.0</td>\n",
       "      <td>0.00</td>\n",
       "      <td>0.000000e+00</td>\n",
       "      <td>0.000000e+00</td>\n",
       "      <td>0.000000</td>\n",
       "      <td>...</td>\n",
       "      <td>0</td>\n",
       "      <td>2021</td>\n",
       "      <td>8</td>\n",
       "      <td>21</td>\n",
       "      <td>19</td>\n",
       "      <td>59</td>\n",
       "      <td>40</td>\n",
       "      <td>1.000000</td>\n",
       "      <td>0.000000</td>\n",
       "      <td>0.000000</td>\n",
       "    </tr>\n",
       "    <tr>\n",
       "      <th>170128</th>\n",
       "      <td>1.629576e+09</td>\n",
       "      <td>0.000000</td>\n",
       "      <td>0.000000</td>\n",
       "      <td>0.000000</td>\n",
       "      <td>0.000000</td>\n",
       "      <td>2.0</td>\n",
       "      <td>0.00</td>\n",
       "      <td>0.000000e+00</td>\n",
       "      <td>0.000000e+00</td>\n",
       "      <td>0.000000</td>\n",
       "      <td>...</td>\n",
       "      <td>0</td>\n",
       "      <td>2021</td>\n",
       "      <td>8</td>\n",
       "      <td>21</td>\n",
       "      <td>19</td>\n",
       "      <td>59</td>\n",
       "      <td>48</td>\n",
       "      <td>1.000000</td>\n",
       "      <td>0.000000</td>\n",
       "      <td>0.000000</td>\n",
       "    </tr>\n",
       "    <tr>\n",
       "      <th>170129</th>\n",
       "      <td>1.629576e+09</td>\n",
       "      <td>0.000000</td>\n",
       "      <td>0.000000</td>\n",
       "      <td>0.000000</td>\n",
       "      <td>0.000000</td>\n",
       "      <td>2.0</td>\n",
       "      <td>0.00</td>\n",
       "      <td>0.000000e+00</td>\n",
       "      <td>0.000000e+00</td>\n",
       "      <td>0.000000</td>\n",
       "      <td>...</td>\n",
       "      <td>0</td>\n",
       "      <td>2021</td>\n",
       "      <td>8</td>\n",
       "      <td>21</td>\n",
       "      <td>19</td>\n",
       "      <td>59</td>\n",
       "      <td>56</td>\n",
       "      <td>1.000000</td>\n",
       "      <td>0.000000</td>\n",
       "      <td>0.000000</td>\n",
       "    </tr>\n",
       "  </tbody>\n",
       "</table>\n",
       "<p>170130 rows × 24 columns</p>\n",
       "</div>"
      ],
      "text/plain": [
       "           timestamp  cpu_system  cpu_idle  cpu_user  cpu_iowait  pod_count  \\\n",
       "0       1.629576e+09    0.024000  0.906000  0.052667    0.000333        6.0   \n",
       "1       1.629576e+09    0.024000  0.906000  0.052667    0.000333        6.0   \n",
       "2       1.629576e+09    0.034333  0.895667  0.045667    0.003000        6.0   \n",
       "3       1.629576e+09    0.034333  0.895667  0.045667    0.003000        6.0   \n",
       "4       1.629576e+09    0.025000  0.908000  0.045000    0.000000        6.0   \n",
       "...              ...         ...       ...       ...         ...        ...   \n",
       "170125  1.629576e+09    0.000000  0.000000  0.000000    0.000000        2.0   \n",
       "170126  1.629576e+09    0.000000  0.000000  0.000000    0.000000        2.0   \n",
       "170127  1.629576e+09    0.000000  0.000000  0.000000    0.000000        2.0   \n",
       "170128  1.629576e+09    0.000000  0.000000  0.000000    0.000000        2.0   \n",
       "170129  1.629576e+09    0.000000  0.000000  0.000000    0.000000        2.0   \n",
       "\n",
       "        system_load     mem_total     mem_avail   disk_io  ...  label  year  \\\n",
       "0              0.12  1.911521e+09  2.174521e+09  0.005067  ...      1  2021   \n",
       "1              0.12  1.911521e+09  2.174521e+09  0.005067  ...      1  2021   \n",
       "2              0.10  1.911755e+09  2.174288e+09  0.010400  ...      1  2021   \n",
       "3              0.10  1.911755e+09  2.174288e+09  0.010400  ...      1  2021   \n",
       "4              0.07  1.911210e+09  2.174833e+09  0.000800  ...      1  2021   \n",
       "...             ...           ...           ...       ...  ...    ...   ...   \n",
       "170125         0.00  0.000000e+00  0.000000e+00  0.000000  ...      0  2021   \n",
       "170126         0.00  0.000000e+00  0.000000e+00  0.000000  ...      0  2021   \n",
       "170127         0.00  0.000000e+00  0.000000e+00  0.000000  ...      0  2021   \n",
       "170128         0.00  0.000000e+00  0.000000e+00  0.000000  ...      0  2021   \n",
       "170129         0.00  0.000000e+00  0.000000e+00  0.000000  ...      0  2021   \n",
       "\n",
       "        month  day  hour  minute  second  cpu_total  cpu_user_rate  \\\n",
       "0           8   21    20       6       0   0.094000       0.560284   \n",
       "1           8   21    20       6       8   0.094000       0.560284   \n",
       "2           8   21    20       6      16   0.104333       0.437700   \n",
       "3           8   21    20       6      24   0.104333       0.437700   \n",
       "4           8   21    20       6      32   0.092000       0.489130   \n",
       "...       ...  ...   ...     ...     ...        ...            ...   \n",
       "170125      8   21    19      59      24   1.000000       0.000000   \n",
       "170126      8   21    19      59      32   1.000000       0.000000   \n",
       "170127      8   21    19      59      40   1.000000       0.000000   \n",
       "170128      8   21    19      59      48   1.000000       0.000000   \n",
       "170129      8   21    19      59      56   1.000000       0.000000   \n",
       "\n",
       "        cpu_system_rate  \n",
       "0              0.255319  \n",
       "1              0.255319  \n",
       "2              0.329073  \n",
       "3              0.329073  \n",
       "4              0.271739  \n",
       "...                 ...  \n",
       "170125         0.000000  \n",
       "170126         0.000000  \n",
       "170127         0.000000  \n",
       "170128         0.000000  \n",
       "170129         0.000000  \n",
       "\n",
       "[170130 rows x 24 columns]"
      ]
     },
     "execution_count": 54,
     "metadata": {},
     "output_type": "execute_result"
    }
   ],
   "source": [
    "dataset"
   ]
  },
  {
   "cell_type": "code",
   "execution_count": 56,
   "id": "62b16ff7",
   "metadata": {},
   "outputs": [],
   "source": [
    "dataset.to_pickle(\"allData.pkl\")"
   ]
  },
  {
   "cell_type": "code",
   "execution_count": 58,
   "id": "d2c35e69",
   "metadata": {},
   "outputs": [],
   "source": [
    "ls = [\"1629576360\",\"1629487770\",\"1629797400\",\"1629944340\",\"1629810600\",\"1629660180\",\"1629634500\",\"1629660180\",\"1629793080\",\"1629876780\",\"1629397800\",\"1629397800\",\"1629876780\",\"1629797400\",\"1629713460\",\"1629793080\",\"1629978780\",\"1629944340\",\"1629367800\",\"1629367800\",\"1629576360\",\"1629612720\",\"1629944340\",\"1629314880\",\"1629634500\",\"1629487770\",\"1629797400\",\"1629487770\",\"1629489780\",\"1629576360\",\"1629397800\",\"1629461730\",\"1629978780\",\"1629461730\",\"1629489780\",\"1629660180\",\"1629612720\",\"1629314880\",\"1629793080\",\"1629713460\",\"1629978780\",\"1629876780\",\"1629612720\",\"1629810600\",\"1629634500\",\"1629713460\",\"1629314880\",\"1629810600\",\"1629367800\",\"1629489780\"]\n"
   ]
  },
  {
   "cell_type": "code",
   "execution_count": 60,
   "id": "ee446f88",
   "metadata": {},
   "outputs": [
    {
     "ename": "AttributeError",
     "evalue": "'numpy.ndarray' object has no attribute 'unique'",
     "output_type": "error",
     "traceback": [
      "\u001b[0;31m---------------------------------------------------------------------------\u001b[0m",
      "\u001b[0;31mAttributeError\u001b[0m                            Traceback (most recent call last)",
      "\u001b[0;32m<ipython-input-60-d28eba7db540>\u001b[0m in \u001b[0;36m<module>\u001b[0;34m\u001b[0m\n\u001b[0;32m----> 1\u001b[0;31m \u001b[0mnp\u001b[0m\u001b[0;34m.\u001b[0m\u001b[0marray\u001b[0m\u001b[0;34m(\u001b[0m\u001b[0mls\u001b[0m\u001b[0;34m)\u001b[0m\u001b[0;34m.\u001b[0m\u001b[0munique\u001b[0m\u001b[0;34m(\u001b[0m\u001b[0;34m)\u001b[0m\u001b[0;34m\u001b[0m\u001b[0;34m\u001b[0m\u001b[0m\n\u001b[0m",
      "\u001b[0;31mAttributeError\u001b[0m: 'numpy.ndarray' object has no attribute 'unique'"
     ]
    }
   ],
   "source": [
    "np.array(ls).unique()"
   ]
  }
 ],
 "metadata": {
  "kernelspec": {
   "display_name": "Python 3",
   "language": "python",
   "name": "python3"
  },
  "language_info": {
   "codemirror_mode": {
    "name": "ipython",
    "version": 3
   },
   "file_extension": ".py",
   "mimetype": "text/x-python",
   "name": "python",
   "nbconvert_exporter": "python",
   "pygments_lexer": "ipython3",
   "version": "3.6.9"
  }
 },
 "nbformat": 4,
 "nbformat_minor": 5
}
