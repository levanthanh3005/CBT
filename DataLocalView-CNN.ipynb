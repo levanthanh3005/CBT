{
 "cells": [
  {
   "cell_type": "code",
   "execution_count": 22,
   "metadata": {
    "id": "VVXvA0030EfO"
   },
   "outputs": [],
   "source": [
    "import numpy as np\n",
    "np.random.seed(100) # for reproducibility\n",
    "\n",
    "import tensorflow as tf\n",
    "tf.random.set_seed(200)\n",
    "\n",
    "from tensorflow import keras\n",
    "from tensorflow.keras import datasets, layers, models\n",
    "import matplotlib.pyplot as plt"
   ]
  },
  {
   "cell_type": "code",
   "execution_count": 23,
   "metadata": {
    "id": "7ajGrIgKE0y4"
   },
   "outputs": [],
   "source": [
    "from os import listdir\n",
    "from os.path import isfile, join\n",
    "\n",
    "def breakData(dataTrain, dataLabel, breakPoint):\n",
    "    totalTime = dataTrain.shape[2]\n",
    "    lsTrain = []\n",
    "    lsLabel = []\n",
    "    bCount = int(totalTime / breakPoint)\n",
    "#     print(\"bCount:\",bCount)\n",
    "    for e in range(bCount):\n",
    "#         print(\"from:\",breakPoint*e,\" to:\",breakPoint*(e+1))\n",
    "        lsTrain.append(dataTrain[:,:,breakPoint*e:breakPoint*(e+1)][0])\n",
    "        lsLabel.append(dataLabel[0][0])\n",
    "    if totalTime % breakPoint > 0:\n",
    "#         print(\"from:\",(totalTime-breakPoint),\" to:\",totalTime)\n",
    "        lsTrain.append(dataTrain[:,:,(totalTime-breakPoint):totalTime][0])\n",
    "        lsLabel.append(dataLabel[0][0])\n",
    "\n",
    "#     print(\"breakdata:\",np.array(lsTrain).shape)\n",
    "    return lsTrain,lsLabel\n",
    "def viewAllDataFromFolder(dataPath,lablePath,breakPoint):\n",
    "    onlyfiles = [f for f in listdir(dataPath) if isfile(join(dataPath, f))]\n",
    "    count = 0\n",
    "    fileLs = []\n",
    "    lsBdTrain = None\n",
    "    lsBdLabel = None\n",
    "    for fs in onlyfiles:\n",
    "#         print(fs)\n",
    "        count = count + 1\n",
    "        with open(lablePath+\"/\"+fs, 'rb') as f:\n",
    "            dataLabel = np.load(f)\n",
    "        with open(dataPath+\"/\"+fs, 'rb') as f:\n",
    "            dataTrain = np.load(f)\n",
    "#         print(\"dataTrain.shape:\",dataTrain.shape,\"  dataLabel.shape:\",dataLabel.shape,\" label value:\",dataLabel[0])\n",
    "#         print(dataTrain[:,:,:121].shape)\n",
    "        bdTrain,bdLabel = breakData(dataTrain,dataLabel, breakPoint)\n",
    "        if count == 1:\n",
    "            lsBdTrain = np.array(bdTrain)\n",
    "            lsBdLabel = np.array(bdLabel)\n",
    "        else:\n",
    "            lsBdTrain = np.append(lsBdTrain,bdTrain,axis=0)\n",
    "            lsBdLabel = np.append(lsBdLabel,bdLabel,axis=0)\n",
    "    unique, counts = np.unique(lsBdLabel, return_counts=True)\n",
    "    print(\"Num of file:\",len(onlyfiles))\n",
    "    print(\"Label:\",dict(zip(unique, counts)))\n",
    "    lsBdLabel = lsBdLabel.reshape((lsBdLabel.shape[0],1))\n",
    "    \n",
    "    print(\"Shape lsBdTrain:\",lsBdTrain.shape,\" lsBdLabel:\",lsBdLabel.shape)\n",
    "    return lsBdTrain,lsBdLabel"
   ]
  },
  {
   "cell_type": "code",
   "execution_count": 24,
   "metadata": {
    "colab": {
     "base_uri": "https://localhost:8080/"
    },
    "id": "M_0Wn6MOK5Dx",
    "outputId": "55e495a6-e299-4d69-f03b-1ce46acdb297"
   },
   "outputs": [
    {
     "name": "stdout",
     "output_type": "stream",
     "text": [
      "Num of file: 20\n",
      "Label: {0: 46, 1: 48}\n",
      "Shape lsBdTrain: (94, 12, 121)  lsBdLabel: (94, 1)\n"
     ]
    }
   ],
   "source": [
    "trainData,labelData = viewAllDataFromFolder(\"data\",\"label\",121)"
   ]
  },
  {
   "cell_type": "code",
   "execution_count": 15,
   "metadata": {
    "colab": {
     "base_uri": "https://localhost:8080/",
     "height": 950
    },
    "id": "lssPsgJ_G67k",
    "outputId": "36210486-5c60-41d2-c934-14357bd52ce3"
   },
   "outputs": [
    {
     "name": "stdout",
     "output_type": "stream",
     "text": [
      "Model: \"sequential_1\"\n",
      "_________________________________________________________________\n",
      "Layer (type)                 Output Shape              Param #   \n",
      "=================================================================\n",
      "conv2d_2 (Conv2D)            (None, 11, 20, 1)         5         \n",
      "_________________________________________________________________\n",
      "max_pooling2d_1 (MaxPooling2 (None, 5, 10, 1)          0         \n",
      "_________________________________________________________________\n",
      "conv2d_3 (Conv2D)            (None, 4, 9, 1)           5         \n",
      "_________________________________________________________________\n",
      "flatten_1 (Flatten)          (None, 36)                0         \n",
      "_________________________________________________________________\n",
      "dense_1 (Dense)              (None, 2)                 74        \n",
      "=================================================================\n",
      "Total params: 84\n",
      "Trainable params: 84\n",
      "Non-trainable params: 0\n",
      "_________________________________________________________________\n",
      "('Failed to import pydot. You must `pip install pydot` and install graphviz (https://graphviz.gitlab.io/download/), ', 'for `pydotprint` to work.')\n"
     ]
    }
   ],
   "source": [
    "model = models.Sequential()\n",
    "model.add(layers.Conv2D(1, (2,2), activation='relu', input_shape=(12, 21, 1)))\n",
    "model.add(layers.MaxPooling2D((2, 2)))\n",
    "model.add(layers.Conv2D(1, (2, 2), activation='relu'))\n",
    "model.add(layers.Flatten())\n",
    "model.add(layers.Dense(2))\n",
    "model.summary()\n",
    "keras.utils.plot_model(model, \"my_first_model_with_shape_info.png\", show_shapes=True)"
   ]
  },
  {
   "cell_type": "code",
   "execution_count": 16,
   "metadata": {
    "colab": {
     "base_uri": "https://localhost:8080/"
    },
    "id": "PJ8b2PT05hly",
    "outputId": "29e39a60-fcf3-40ed-c213-08a6b5bed111"
   },
   "outputs": [
    {
     "name": "stdout",
     "output_type": "stream",
     "text": [
      "(63, 12, 21, 1)\n",
      "(63, 1)\n",
      "Epoch 1/11\n",
      "2/2 [==============================] - 0s 2ms/step - loss: 0.6721 - accuracy: 0.7937\n",
      "Epoch 2/11\n",
      "2/2 [==============================] - 0s 2ms/step - loss: 0.6679 - accuracy: 0.7937\n",
      "Epoch 3/11\n",
      "2/2 [==============================] - 0s 2ms/step - loss: 0.6639 - accuracy: 0.7937\n",
      "Epoch 4/11\n",
      "2/2 [==============================] - 0s 2ms/step - loss: 0.6604 - accuracy: 0.7937\n",
      "Epoch 5/11\n",
      "2/2 [==============================] - 0s 2ms/step - loss: 0.6564 - accuracy: 0.7937\n",
      "Epoch 6/11\n",
      "2/2 [==============================] - 0s 2ms/step - loss: 0.6514 - accuracy: 0.7937\n",
      "Epoch 7/11\n",
      "2/2 [==============================] - 0s 2ms/step - loss: 0.6473 - accuracy: 0.7937\n",
      "Epoch 8/11\n",
      "2/2 [==============================] - 0s 2ms/step - loss: 0.6427 - accuracy: 0.7937\n",
      "Epoch 9/11\n",
      "2/2 [==============================] - 0s 2ms/step - loss: 0.6381 - accuracy: 0.7937\n",
      "Epoch 10/11\n",
      "2/2 [==============================] - 0s 2ms/step - loss: 0.6337 - accuracy: 0.7937\n",
      "Epoch 11/11\n",
      "2/2 [==============================] - 0s 2ms/step - loss: 0.6292 - accuracy: 0.7937\n"
     ]
    }
   ],
   "source": [
    "print(dataTrainLs.shape)\n",
    "print(dataLabelLs.shape)\n",
    "model.compile(optimizer='adam',\n",
    "              loss=tf.keras.losses.SparseCategoricalCrossentropy(from_logits=True),\n",
    "              metrics=['accuracy'])\n",
    "history = model.fit(dataTrainLs, dataLabelLs, epochs=11)"
   ]
  },
  {
   "cell_type": "code",
   "execution_count": 17,
   "metadata": {
    "colab": {
     "base_uri": "https://localhost:8080/"
    },
    "id": "0uNWB9jJkM1L",
    "outputId": "afd71aa8-0284-49f2-e7f3-6ef6e33fb1a4"
   },
   "outputs": [
    {
     "name": "stdout",
     "output_type": "stream",
     "text": [
      "(63, 12, 21, 1)\n",
      "(63, 1)\n",
      "Epoch 1/20\n",
      "2/2 [==============================] - 0s 61ms/step - loss: 0.6408 - accuracy: 0.7600 - val_loss: 0.5609 - val_accuracy: 0.9231\n",
      "Epoch 2/20\n",
      "2/2 [==============================] - 0s 8ms/step - loss: 0.6366 - accuracy: 0.7600 - val_loss: 0.5538 - val_accuracy: 0.9231\n",
      "Epoch 3/20\n",
      "2/2 [==============================] - 0s 9ms/step - loss: 0.6330 - accuracy: 0.7600 - val_loss: 0.5462 - val_accuracy: 0.9231\n",
      "Epoch 4/20\n",
      "2/2 [==============================] - 0s 8ms/step - loss: 0.6304 - accuracy: 0.7600 - val_loss: 0.5393 - val_accuracy: 0.9231\n",
      "Epoch 5/20\n",
      "2/2 [==============================] - 0s 9ms/step - loss: 0.6260 - accuracy: 0.7600 - val_loss: 0.5331 - val_accuracy: 0.9231\n",
      "Epoch 6/20\n",
      "2/2 [==============================] - 0s 8ms/step - loss: 0.6236 - accuracy: 0.7600 - val_loss: 0.5265 - val_accuracy: 0.9231\n",
      "Epoch 7/20\n",
      "2/2 [==============================] - 0s 10ms/step - loss: 0.6195 - accuracy: 0.7600 - val_loss: 0.5203 - val_accuracy: 0.9231\n",
      "Epoch 8/20\n",
      "2/2 [==============================] - 0s 8ms/step - loss: 0.6176 - accuracy: 0.7600 - val_loss: 0.5136 - val_accuracy: 0.9231\n",
      "Epoch 9/20\n",
      "2/2 [==============================] - 0s 11ms/step - loss: 0.6138 - accuracy: 0.7600 - val_loss: 0.5073 - val_accuracy: 0.9231\n",
      "Epoch 10/20\n",
      "2/2 [==============================] - 0s 9ms/step - loss: 0.6115 - accuracy: 0.7600 - val_loss: 0.5009 - val_accuracy: 0.9231\n",
      "Epoch 11/20\n",
      "2/2 [==============================] - 0s 11ms/step - loss: 0.6083 - accuracy: 0.7600 - val_loss: 0.4948 - val_accuracy: 0.9231\n",
      "Epoch 12/20\n",
      "2/2 [==============================] - 0s 10ms/step - loss: 0.6062 - accuracy: 0.7600 - val_loss: 0.4889 - val_accuracy: 0.9231\n",
      "Epoch 13/20\n",
      "2/2 [==============================] - 0s 8ms/step - loss: 0.6029 - accuracy: 0.7600 - val_loss: 0.4837 - val_accuracy: 0.9231\n",
      "Epoch 14/20\n",
      "2/2 [==============================] - 0s 9ms/step - loss: 0.6014 - accuracy: 0.7600 - val_loss: 0.4783 - val_accuracy: 0.9231\n",
      "Epoch 15/20\n",
      "2/2 [==============================] - 0s 8ms/step - loss: 0.5981 - accuracy: 0.7600 - val_loss: 0.4735 - val_accuracy: 0.9231\n",
      "Epoch 16/20\n",
      "2/2 [==============================] - 0s 8ms/step - loss: 0.5968 - accuracy: 0.7600 - val_loss: 0.4683 - val_accuracy: 0.9231\n",
      "Epoch 17/20\n",
      "2/2 [==============================] - 0s 10ms/step - loss: 0.5949 - accuracy: 0.7600 - val_loss: 0.4633 - val_accuracy: 0.9231\n",
      "Epoch 18/20\n",
      "2/2 [==============================] - 0s 8ms/step - loss: 0.5924 - accuracy: 0.7600 - val_loss: 0.4587 - val_accuracy: 0.9231\n",
      "Epoch 19/20\n",
      "2/2 [==============================] - 0s 8ms/step - loss: 0.5913 - accuracy: 0.7600 - val_loss: 0.4538 - val_accuracy: 0.9231\n",
      "Epoch 20/20\n",
      "2/2 [==============================] - 0s 9ms/step - loss: 0.5894 - accuracy: 0.7600 - val_loss: 0.4490 - val_accuracy: 0.9231\n"
     ]
    }
   ],
   "source": [
    "print(dataTrainLs.shape)\n",
    "print(dataLabelLs.shape)\n",
    "model.compile(optimizer='adam',\n",
    "              loss=tf.keras.losses.SparseCategoricalCrossentropy(from_logits=True),\n",
    "              metrics=['accuracy'])\n",
    "history = model.fit(dataTrainLs, dataLabelLs, epochs=20,\n",
    "                      validation_split=0.2,\n",
    "                      shuffle=True)"
   ]
  },
  {
   "cell_type": "code",
   "execution_count": 20,
   "metadata": {
    "colab": {
     "base_uri": "https://localhost:8080/"
    },
    "id": "7h7yPYboXXBI",
    "outputId": "de9d4ada-c84f-4a71-92d5-7752f9fc36a0"
   },
   "outputs": [
    {
     "name": "stdout",
     "output_type": "stream",
     "text": [
      "[[-0.6471393   0.30727148]]\n",
      "[0.]\n"
     ]
    }
   ],
   "source": [
    "testX = []\n",
    "testX.append(dataTrainLs[4])\n",
    "testX = np.array(testX)\n",
    "yhat = model.predict(testX)\n",
    "print(yhat)\n",
    "print(dataLabelLs[4])"
   ]
  },
  {
   "cell_type": "code",
   "execution_count": 19,
   "metadata": {},
   "outputs": [],
   "source": [
    "model.save('cbt.h5')"
   ]
  },
  {
   "cell_type": "markdown",
   "metadata": {},
   "source": []
  }
 ],
 "metadata": {
  "colab": {
   "collapsed_sections": [],
   "name": "CBT-CNN.ipynb",
   "provenance": []
  },
  "kernelspec": {
   "display_name": "Python 3",
   "language": "python",
   "name": "python3"
  },
  "language_info": {
   "codemirror_mode": {
    "name": "ipython",
    "version": 3
   },
   "file_extension": ".py",
   "mimetype": "text/x-python",
   "name": "python",
   "nbconvert_exporter": "python",
   "pygments_lexer": "ipython3",
   "version": "3.6.9"
  }
 },
 "nbformat": 4,
 "nbformat_minor": 1
}
