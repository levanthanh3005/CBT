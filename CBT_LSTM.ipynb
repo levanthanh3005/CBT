{
 "cells": [
  {
   "cell_type": "code",
   "execution_count": 1,
   "metadata": {
    "id": "VVXvA0030EfO"
   },
   "outputs": [],
   "source": [
    "import tensorflow as tf\n",
    "from tensorflow import keras\n",
    "from tensorflow.keras import datasets, layers, models\n",
    "import matplotlib.pyplot as plt"
   ]
  },
  {
   "cell_type": "code",
   "execution_count": 2,
   "metadata": {
    "colab": {
     "base_uri": "https://localhost:8080/"
    },
    "id": "q6WMcC7QEuAp",
    "outputId": "d2efe1db-7ca1-4b93-807e-70f539923156"
   },
   "outputs": [
    {
     "name": "stdout",
     "output_type": "stream",
     "text": [
      "Cloning into 'CBT'...\n",
      "remote: Enumerating objects: 77, done.\u001b[K\n",
      "remote: Counting objects: 100% (77/77), done.\u001b[K\n",
      "remote: Compressing objects: 100% (73/73), done.\u001b[K\n",
      "remote: Total 77 (delta 4), reused 77 (delta 4), pack-reused 0\u001b[K\n",
      "Unpacking objects: 100% (77/77), done.\n"
     ]
    }
   ],
   "source": [
    "#!rm -rf CBT\n",
    "!git clone https://github.com/levanthanh3005/CBT"
   ]
  },
  {
   "cell_type": "code",
   "execution_count": 3,
   "metadata": {
    "id": "7ajGrIgKE0y4"
   },
   "outputs": [],
   "source": [
    "from os import listdir\n",
    "from os.path import isfile, join\n",
    "import numpy as np\n",
    "\n",
    "def getAllDataFromFolder(dataPath,lablePath):\n",
    "    onlyfiles = [f for f in listdir(dataPath) if isfile(join(dataPath, f))]\n",
    "    count = 0\n",
    "    fileLs = []\n",
    "    for fs in onlyfiles:\n",
    "        count = count + 1\n",
    "        with open(dataPath+\"/\"+fs, 'rb') as f:\n",
    "            dataTrain = np.load(f)\n",
    "        with open(lablePath+\"/\"+fs, 'rb') as f:\n",
    "            dataLabel = np.load(f)\n",
    "        if count == 1 :\n",
    "            dataTrainLs = np.empty(shape=[0, dataTrain.shape[1], dataTrain.shape[2]])\n",
    "            dataLabelLs = np.empty(shape=[0, 1])\n",
    "        try:\n",
    "            dataTrainLs = np.append(dataTrainLs,dataTrain, axis=0)\n",
    "            dataLabelLs = np.append(dataLabelLs,dataLabel, axis=0)\n",
    "            fileLs.append(fs)\n",
    "        except:\n",
    "            continue\n",
    "    trainShape = dataTrainLs.shape\n",
    "    dataTrainLs = np.where(np.isnan(dataTrainLs), 0, dataTrainLs)\n",
    "\n",
    "    return dataTrainLs, dataLabelLs,fileLs"
   ]
  },
  {
   "cell_type": "code",
   "execution_count": 4,
   "metadata": {
    "colab": {
     "base_uri": "https://localhost:8080/"
    },
    "id": "M_0Wn6MOK5Dx",
    "outputId": "618fd792-5a80-4ccf-85bc-f4e3cea192d0"
   },
   "outputs": [
    {
     "name": "stdout",
     "output_type": "stream",
     "text": [
      "(63, 12, 21)\n",
      "(63, 1)\n",
      "['1620499800-tan-k3', '1620484800-tan-k2', '1620477900-tan-k2', '1620481980-tan-k2', '1620481560-tan-k3', '1620501600-tan-k2', '1620484800-tan-km', '1620477900-tan-k3', '1620502680-tan-k2', '1620499800-tan-k2', '1620502020-tan-k2', '1620481980-tan-k3', '1620501120-tan-k2', '1620498600-tan-k3', '1620481560-tan-km', '1620499800-tan-km', '1620485520-tan-k2', '1620501120-tan-km', '1620502680-tan-k3', '1620501300-tan-k3', '1620502380-tan-k2', '1620481020-tan-km', '1620502380-tan-km', '1620480780-tan-km', '1620481560-tan-k2', '1620484500-tan-k2', '1620502980-tan-k2', '1620480780-tan-k3', '1620481980-tan-km', '1620480780-tan-k2', '1620481260-tan-k3', '1620484800-tan-k3', '1620502980-tan-k3', '1620481260-tan-km', '1620500100-tan-k2', '1620480360-tan-k2', '1620484500-tan-km', '1620502980-tan-km', '1620501300-tan-k2', '1620502680-tan-km', '1620481020-tan-k2', '1620501600-tan-km', '1620484500-tan-k3', '1620480360-tan-km', '1620484200-tan-k2', '1620501600-tan-k3', '1620502380-tan-k3', '1620501300-tan-km', '1620485520-tan-km', '1620481020-tan-k3', '1620480360-tan-k3', '1620484200-tan-k3', '1620477900-tan-km', '1620481260-tan-k2', '1620485520-tan-k3', '1620498600-tan-k2', '1620500100-tan-km', '1620484200-tan-km', '1620501120-tan-k3', '1620498600-tan-km', '1620502020-tan-k3', '1620500100-tan-k3', '1620502020-tan-km']\n"
     ]
    }
   ],
   "source": [
    "dataTrainLs, dataLabelLs, fileLs = getAllDataFromFolder(\"CBT/data\",\"CBT/label\")\n",
    "print(dataTrainLs.shape)\n",
    "print(dataLabelLs.shape)\n",
    "print(fileLs)\n",
    "# print(dataLabelLs)"
   ]
  },
  {
   "cell_type": "code",
   "execution_count": 5,
   "metadata": {
    "id": "fPT44qJE-_mx"
   },
   "outputs": [],
   "source": [
    "X_train = dataTrainLs\n",
    "y_train = dataLabelLs"
   ]
  },
  {
   "cell_type": "code",
   "execution_count": 9,
   "metadata": {
    "id": "aCUsNRFg-4kf"
   },
   "outputs": [],
   "source": [
    "model = keras.Sequential()\n",
    "model.add(\n",
    "    keras.layers.Bidirectional(\n",
    "      keras.layers.LSTM(\n",
    "          units=128,\n",
    "          input_shape=[X_train.shape[1], X_train.shape[2]]\n",
    "      )\n",
    "    )\n",
    ")\n",
    "model.add(keras.layers.Dropout(rate=0.5))\n",
    "model.add(keras.layers.Dense(units=128, activation='relu'))\n",
    "model.add(keras.layers.Dense(y_train.shape[1], activation='softmax'))\n",
    "model.compile(\n",
    "  loss='categorical_crossentropy',\n",
    "  optimizer='adam',\n",
    "  metrics=['acc']\n",
    ")"
   ]
  },
  {
   "cell_type": "code",
   "execution_count": 10,
   "metadata": {
    "colab": {
     "base_uri": "https://localhost:8080/"
    },
    "id": "5z1WBwLC_Gn6",
    "outputId": "25040416-8586-49dc-cb86-ab5308c59f6a"
   },
   "outputs": [
    {
     "name": "stdout",
     "output_type": "stream",
     "text": [
      "Epoch 1/10\n",
      "2/2 [==============================] - 4s 846ms/step - loss: 0.0000e+00 - acc: 0.7492 - val_loss: 0.0000e+00 - val_acc: 0.8462\n",
      "Epoch 2/10\n",
      "2/2 [==============================] - 0s 61ms/step - loss: 0.0000e+00 - acc: 0.7596 - val_loss: 0.0000e+00 - val_acc: 0.8462\n",
      "Epoch 3/10\n",
      "2/2 [==============================] - 0s 63ms/step - loss: 0.0000e+00 - acc: 0.7804 - val_loss: 0.0000e+00 - val_acc: 0.8462\n",
      "Epoch 4/10\n",
      "2/2 [==============================] - 0s 62ms/step - loss: 0.0000e+00 - acc: 0.7804 - val_loss: 0.0000e+00 - val_acc: 0.8462\n",
      "Epoch 5/10\n",
      "2/2 [==============================] - 0s 65ms/step - loss: 0.0000e+00 - acc: 0.7804 - val_loss: 0.0000e+00 - val_acc: 0.8462\n",
      "Epoch 6/10\n",
      "2/2 [==============================] - 0s 64ms/step - loss: 0.0000e+00 - acc: 0.7804 - val_loss: 0.0000e+00 - val_acc: 0.8462\n",
      "Epoch 7/10\n",
      "2/2 [==============================] - 0s 69ms/step - loss: 0.0000e+00 - acc: 0.7700 - val_loss: 0.0000e+00 - val_acc: 0.8462\n",
      "Epoch 8/10\n",
      "2/2 [==============================] - 0s 65ms/step - loss: 0.0000e+00 - acc: 0.7908 - val_loss: 0.0000e+00 - val_acc: 0.8462\n",
      "Epoch 9/10\n",
      "2/2 [==============================] - 0s 62ms/step - loss: 0.0000e+00 - acc: 0.7908 - val_loss: 0.0000e+00 - val_acc: 0.8462\n",
      "Epoch 10/10\n",
      "2/2 [==============================] - 0s 65ms/step - loss: 0.0000e+00 - acc: 0.7700 - val_loss: 0.0000e+00 - val_acc: 0.8462\n"
     ]
    }
   ],
   "source": [
    "history = model.fit(\n",
    "    X_train, y_train,\n",
    "    epochs=10,\n",
    "    validation_split=0.2,\n",
    "    shuffle=True\n",
    ")"
   ]
  },
  {
   "cell_type": "code",
   "execution_count": 8,
   "metadata": {
    "colab": {
     "base_uri": "https://localhost:8080/"
    },
    "id": "7h7yPYboXXBI",
    "outputId": "4c15ef2a-755b-40cb-f51d-966795526135"
   },
   "outputs": [
    {
     "name": "stdout",
     "output_type": "stream",
     "text": [
      "[[1.]]\n",
      "[0.]\n"
     ]
    }
   ],
   "source": [
    "testX = []\n",
    "testX.append(dataTrainLs[5])\n",
    "testX = np.array(testX)\n",
    "yhat = model.predict(testX)\n",
    "print(yhat)\n",
    "print(dataLabelLs[5])"
   ]
  }
 ],
 "metadata": {
  "colab": {
   "collapsed_sections": [],
   "name": "CBT-LSTM.ipynb",
   "provenance": []
  },
  "kernelspec": {
   "display_name": "Python 3",
   "language": "python",
   "name": "python3"
  },
  "language_info": {
   "codemirror_mode": {
    "name": "ipython",
    "version": 3
   },
   "file_extension": ".py",
   "mimetype": "text/x-python",
   "name": "python",
   "nbconvert_exporter": "python",
   "pygments_lexer": "ipython3",
   "version": "3.6.9"
  }
 },
 "nbformat": 4,
 "nbformat_minor": 1
}
